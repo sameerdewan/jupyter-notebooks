{
 "cells": [
  {
   "cell_type": "markdown",
   "id": "b97df4ea",
   "metadata": {},
   "source": [
    "# Basics of Using Pandas"
   ]
  },
  {
   "cell_type": "code",
   "execution_count": null,
   "id": "e2b0eb51",
   "metadata": {},
   "outputs": [],
   "source": [
    "import pandas as pd"
   ]
  },
  {
   "cell_type": "code",
   "execution_count": null,
   "id": "86e632eb",
   "metadata": {},
   "outputs": [],
   "source": [
    "data = { 'A':[25,56,93], 'B':['str1', 'str2', 'str3']  }\n",
    "X = pd.DataFrame(data)\n",
    "X"
   ]
  },
  {
   "cell_type": "markdown",
   "id": "64cc2751",
   "metadata": {},
   "source": [
    "## Change the Index\n",
    "- Can pass an index to the constructor\n",
    "- Can use `set index()` to assign the col to be the index\n",
    "- Can keep the default index list of ints"
   ]
  },
  {
   "cell_type": "code",
   "execution_count": null,
   "id": "de66a6b2",
   "metadata": {},
   "outputs": [],
   "source": [
    "X = pd.DataFrame(data, index=['a', 'b', 'c'])\n",
    "X"
   ]
  },
  {
   "cell_type": "code",
   "execution_count": null,
   "id": "9bf26ba5",
   "metadata": {},
   "outputs": [],
   "source": [
    "X = pd.DataFrame(data)\n",
    "X = X.set_index('A')\n",
    "X"
   ]
  },
  {
   "cell_type": "markdown",
   "id": "6a75db7d",
   "metadata": {},
   "source": [
    "## Load Data from an External Source"
   ]
  },
  {
   "cell_type": "code",
   "execution_count": null,
   "id": "9d889fc3",
   "metadata": {},
   "outputs": [],
   "source": [
    "filename = '../data/Pokemon.csv'\n",
    "CH = pd.read_csv(filename)\n",
    "CH"
   ]
  },
  {
   "cell_type": "markdown",
   "id": "b98e22d3",
   "metadata": {},
   "source": [
    "### Use Pokemon Name as Index"
   ]
  },
  {
   "cell_type": "code",
   "execution_count": null,
   "id": "5c98fc8f",
   "metadata": {},
   "outputs": [],
   "source": [
    "CH2 = CH.set_index('Name')\n",
    "CH2"
   ]
  },
  {
   "cell_type": "markdown",
   "id": "95149528",
   "metadata": {},
   "source": [
    "## DataFrame summaries\n",
    "- info() for Column Data Types\n",
    "- describe() for Summary statistics for numerical columns\n",
    "- head(), tail() for showing first or last few rows of a table"
   ]
  },
  {
   "cell_type": "code",
   "execution_count": null,
   "id": "b63fa6a1",
   "metadata": {},
   "outputs": [],
   "source": [
    "CH2.info()"
   ]
  },
  {
   "cell_type": "code",
   "execution_count": null,
   "id": "a22f5019",
   "metadata": {},
   "outputs": [],
   "source": [
    "CH2.describe()"
   ]
  },
  {
   "cell_type": "code",
   "execution_count": null,
   "id": "36562507",
   "metadata": {},
   "outputs": [],
   "source": [
    "CH2.head()"
   ]
  },
  {
   "cell_type": "code",
   "execution_count": null,
   "id": "1d9701fe",
   "metadata": {},
   "outputs": [],
   "source": [
    "CH2.tail()"
   ]
  }
 ],
 "metadata": {
  "kernelspec": {
   "display_name": "Python 3",
   "language": "python",
   "name": "python3"
  },
  "language_info": {
   "codemirror_mode": {
    "name": "ipython",
    "version": 3
   },
   "file_extension": ".py",
   "mimetype": "text/x-python",
   "name": "python",
   "nbconvert_exporter": "python",
   "pygments_lexer": "ipython3",
   "version": "3.9.7"
  }
 },
 "nbformat": 4,
 "nbformat_minor": 5
}
